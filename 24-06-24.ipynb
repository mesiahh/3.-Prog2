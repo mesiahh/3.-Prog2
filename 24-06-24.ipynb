{
 "cells": [
  {
   "cell_type": "markdown",
   "metadata": {},
   "source": [
    "bubble sort is ok so long as it works"
   ]
  },
  {
   "cell_type": "markdown",
   "metadata": {},
   "source": [
    "Self Study Monday to Friday"
   ]
  },
  {
   "cell_type": "markdown",
   "metadata": {},
   "source": [
    "Midterms is Saturday Morning"
   ]
  },
  {
   "cell_type": "markdown",
   "metadata": {},
   "source": [
    "Around 4 items ang midterms\n",
    "\n",
    "    Bubble sort is defined as it floats and sorts to the top"
   ]
  },
  {
   "cell_type": "markdown",
   "metadata": {},
   "source": [
    "how it works "
   ]
  },
  {
   "cell_type": "markdown",
   "metadata": {},
   "source": [
    "it compares the first two then moves over to the next then until it can no longer swap"
   ]
  },
  {
   "cell_type": "markdown",
   "metadata": {},
   "source": [
    "Swaps values of the two indices\n"
   ]
  },
  {
   "cell_type": "markdown",
   "metadata": {},
   "source": []
  },
  {
   "cell_type": "code",
   "execution_count": null,
   "metadata": {},
   "outputs": [],
   "source": [
    "BUBBLE SORT\n",
    "temp = arr[i]\n",
    "arr[i] = arr[i+1]\n",
    "array[i+1] = temp \n",
    "\n",
    "# swap lines aka bubble sort - the three lines you need to bubble sort\n",
    "\n",
    "# only do this inside the if statement of loop if array i + 1 is > or depends on the condition given\n",
    "\n",
    "\n",
    "# o(n^2) - aka bubble known as the slowest and inneficient algo\n",
    "\n",
    "# grows qudratically the more contents there are"
   ]
  },
  {
   "cell_type": "markdown",
   "metadata": {},
   "source": [
    "Bubble sort, insertion sort, selection sort"
   ]
  },
  {
   "cell_type": "markdown",
   "metadata": {},
   "source": [
    "## Insertion Sort"
   ]
  },
  {
   "cell_type": "markdown",
   "metadata": {},
   "source": [
    "holding one spot look over ahead for the least amount of value then swap it"
   ]
  },
  {
   "cell_type": "markdown",
   "metadata": {},
   "source": [
    "## Selection Sort"
   ]
  },
  {
   "cell_type": "markdown",
   "metadata": {},
   "source": []
  },
  {
   "cell_type": "markdown",
   "metadata": {},
   "source": [
    "## struct "
   ]
  },
  {
   "cell_type": "code",
   "execution_count": null,
   "metadata": {},
   "outputs": [],
   "source": [
    "typedef struct Product {\n",
    "    int ID = 1001\n",
    "    float Price = 120.00\n",
    "} Ale; // Ale; gives an alias that has the same values as the variables within\n",
    "\n",
    "# header files\n",
    "\n",
    "# to access id\n",
    "# Ale.ID\n",
    "\n",
    "# // agreggating a chocke list of your own????? \n",
    "\n",
    "# Pass one thing - \n",
    "\n",
    "# struct within a struct is possible\n",
    "\n",
    "# Ale.ID = 10;\n",
    "# Product.Price = 130.00;\n",
    "\n"
   ]
  },
  {
   "cell_type": "markdown",
   "metadata": {},
   "source": []
  },
  {
   "cell_type": "markdown",
   "metadata": {},
   "source": [
    "there's no limit to the amount of struct you can implement\n",
    "\n",
    "\n",
    "struct is creating a datatype\n",
    "its a template to use for anything\n",
    "\n",
    "within main(){\n",
    "    Product Ale; Ale.ID = 001; // use only dot to access (.)\n",
    "    int i;\n",
    "}"
   ]
  },
  {
   "cell_type": "markdown",
   "metadata": {},
   "source": [
    "s"
   ]
  },
  {
   "cell_type": "code",
   "execution_count": null,
   "metadata": {},
   "outputs": [],
   "source": [
    "# implementing string\n",
    "typedef struct Product {\n",
    "    int ID = 1001\n",
    "    float Price = 120.00\n",
    "    char name[5] = \"test\"; // you cant do this within struct\n",
    "    // you can only input variable name\n",
    "    } "
   ]
  },
  {
   "cell_type": "code",
   "execution_count": null,
   "metadata": {},
   "outputs": [],
   "source": [
    "# implementing string\n",
    "typedef struct Product {\n",
    "    int ID;\n",
    "    float Price;\n",
    "    char name;\n",
    "    } "
   ]
  },
  {
   "cell_type": "code",
   "execution_count": null,
   "metadata": {},
   "outputs": [],
   "source": [
    "# Pointer to the next struct so use a struct within a struct\n",
    "typedef struct Product {\n",
    "    int ID = 1001\n",
    "    float Price = 120.00\n",
    "    char name[5];\n",
    "    int * ptr; // to access this use ->\n",
    "    } \n",
    "\n",
    "Product Ale;\n",
    "Ale.ptr->"
   ]
  },
  {
   "cell_type": "markdown",
   "metadata": {},
   "source": [
    "<!-- after midterms, we'll be dealing with linked list -->\n",
    "\n",
    "a structure can become a datatype of an array\n",
    "\n",
    "Product Shop [10];\n",
    "\n",
    "Shop [i].ID\n",
    "\n",
    "        .Price\n",
    "\n",
    "        .name[i]\n",
    "        \n",
    "        .ptr ->"
   ]
  },
  {
   "cell_type": "markdown",
   "metadata": {},
   "source": []
  },
  {
   "cell_type": "code",
   "execution_count": null,
   "metadata": {},
   "outputs": [],
   "source": [
    "\n",
    "\n",
    "typedef struct Product {\n",
    "    char Prod_name[10];\n",
    "    int Prod_ID;\n",
    "    float Prod_Price;\n",
    "}\n",
    "\n",
    "type... struct Shop {\n",
    "    Prod Products[5];\n",
    "    int Prod_count;\n",
    "}\n",
    "\n",
    "\n",
    "# main(){\n",
    "#     Shop Chocoshop; // Initialize Chocoshop\n",
    "#     Chocoshop.Products[i]; // Populating Chocoshop - populating = to put datas within indices\n",
    "#     Chocoshop.Products[i].Prod_ID;\n",
    "#     Chocoshop.Products[i].Prod_Price; \n",
    "# }\n",
    "\n",
    "Shop chocoshop[] = {{\"Dark\", 1001, 120.00},\n",
    "                  {\"White\", 1002, 100.00},\n",
    "                  {\"Mint\", 1003, 150.00}\n",
    "                  }\n",
    "\n",
    "int arr[] = {1,2,3,4}\n",
    "\n",
    "\n",
    "\n",
    "// to access shop\n",
    "chocoshop.Products[0].Prod_Name; // accesses dark\n",
    "chocoshop.Products[1].Prod_ID; // accesses white\n",
    "chocoshop.Products[2].Prod_Price; // accesses mint\n",
    "\n"
   ]
  },
  {
   "cell_type": "markdown",
   "metadata": {},
   "source": []
  }
 ],
 "metadata": {
  "language_info": {
   "name": "python"
  }
 },
 "nbformat": 4,
 "nbformat_minor": 2
}
